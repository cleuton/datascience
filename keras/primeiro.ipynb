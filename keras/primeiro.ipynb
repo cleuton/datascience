{
  "cells": [
    {
      "metadata": {
        "collapsed": true
      },
      "cell_type": "markdown",
      "source": "# Meu primeiro notebook\nEste é o meu primeiro notebook com **Keras**."
    },
    {
      "metadata": {
        "trusted": true
      },
      "cell_type": "code",
      "source": "from sklearn.datasets import load_iris\nfrom sklearn.model_selection import train_test_split\nfrom sklearn.preprocessing import OneHotEncoder, StandardScaler\nimport tensorflow as tf\nfrom tensorflow.keras.models import Sequential\nfrom tensorflow.keras.layers import Dense\nimport numpy as np\n",
      "execution_count": 1,
      "outputs": []
    },
    {
      "metadata": {
        "trusted": true
      },
      "cell_type": "code",
      "source": "iris = load_iris()\nprint(type(iris))",
      "execution_count": 3,
      "outputs": [
        {
          "output_type": "stream",
          "text": "<class 'sklearn.utils.Bunch'>\n",
          "name": "stdout"
        }
      ]
    },
    {
      "metadata": {
        "trusted": true
      },
      "cell_type": "code",
      "source": "print(iris)",
      "execution_count": 4,
      "outputs": [
        {
          "output_type": "stream",
          "text": "{'data': array([[5.1, 3.5, 1.4, 0.2],\n       [4.9, 3. , 1.4, 0.2],\n       [4.7, 3.2, 1.3, 0.2],\n       [4.6, 3.1, 1.5, 0.2],\n       [5. , 3.6, 1.4, 0.2],\n       [5.4, 3.9, 1.7, 0.4],\n       [4.6, 3.4, 1.4, 0.3],\n       [5. , 3.4, 1.5, 0.2],\n       [4.4, 2.9, 1.4, 0.2],\n       [4.9, 3.1, 1.5, 0.1],\n       [5.4, 3.7, 1.5, 0.2],\n       [4.8, 3.4, 1.6, 0.2],\n       [4.8, 3. , 1.4, 0.1],\n       [4.3, 3. , 1.1, 0.1],\n       [5.8, 4. , 1.2, 0.2],\n       [5.7, 4.4, 1.5, 0.4],\n       [5.4, 3.9, 1.3, 0.4],\n       [5.1, 3.5, 1.4, 0.3],\n       [5.7, 3.8, 1.7, 0.3],\n       [5.1, 3.8, 1.5, 0.3],\n       [5.4, 3.4, 1.7, 0.2],\n       [5.1, 3.7, 1.5, 0.4],\n       [4.6, 3.6, 1. , 0.2],\n       [5.1, 3.3, 1.7, 0.5],\n       [4.8, 3.4, 1.9, 0.2],\n       [5. , 3. , 1.6, 0.2],\n       [5. , 3.4, 1.6, 0.4],\n       [5.2, 3.5, 1.5, 0.2],\n       [5.2, 3.4, 1.4, 0.2],\n       [4.7, 3.2, 1.6, 0.2],\n       [4.8, 3.1, 1.6, 0.2],\n       [5.4, 3.4, 1.5, 0.4],\n       [5.2, 4.1, 1.5, 0.1],\n       [5.5, 4.2, 1.4, 0.2],\n       [4.9, 3.1, 1.5, 0.2],\n       [5. , 3.2, 1.2, 0.2],\n       [5.5, 3.5, 1.3, 0.2],\n       [4.9, 3.6, 1.4, 0.1],\n       [4.4, 3. , 1.3, 0.2],\n       [5.1, 3.4, 1.5, 0.2],\n       [5. , 3.5, 1.3, 0.3],\n       [4.5, 2.3, 1.3, 0.3],\n       [4.4, 3.2, 1.3, 0.2],\n       [5. , 3.5, 1.6, 0.6],\n       [5.1, 3.8, 1.9, 0.4],\n       [4.8, 3. , 1.4, 0.3],\n       [5.1, 3.8, 1.6, 0.2],\n       [4.6, 3.2, 1.4, 0.2],\n       [5.3, 3.7, 1.5, 0.2],\n       [5. , 3.3, 1.4, 0.2],\n       [7. , 3.2, 4.7, 1.4],\n       [6.4, 3.2, 4.5, 1.5],\n       [6.9, 3.1, 4.9, 1.5],\n       [5.5, 2.3, 4. , 1.3],\n       [6.5, 2.8, 4.6, 1.5],\n       [5.7, 2.8, 4.5, 1.3],\n       [6.3, 3.3, 4.7, 1.6],\n       [4.9, 2.4, 3.3, 1. ],\n       [6.6, 2.9, 4.6, 1.3],\n       [5.2, 2.7, 3.9, 1.4],\n       [5. , 2. , 3.5, 1. ],\n       [5.9, 3. , 4.2, 1.5],\n       [6. , 2.2, 4. , 1. ],\n       [6.1, 2.9, 4.7, 1.4],\n       [5.6, 2.9, 3.6, 1.3],\n       [6.7, 3.1, 4.4, 1.4],\n       [5.6, 3. , 4.5, 1.5],\n       [5.8, 2.7, 4.1, 1. ],\n       [6.2, 2.2, 4.5, 1.5],\n       [5.6, 2.5, 3.9, 1.1],\n       [5.9, 3.2, 4.8, 1.8],\n       [6.1, 2.8, 4. , 1.3],\n       [6.3, 2.5, 4.9, 1.5],\n       [6.1, 2.8, 4.7, 1.2],\n       [6.4, 2.9, 4.3, 1.3],\n       [6.6, 3. , 4.4, 1.4],\n       [6.8, 2.8, 4.8, 1.4],\n       [6.7, 3. , 5. , 1.7],\n       [6. , 2.9, 4.5, 1.5],\n       [5.7, 2.6, 3.5, 1. ],\n       [5.5, 2.4, 3.8, 1.1],\n       [5.5, 2.4, 3.7, 1. ],\n       [5.8, 2.7, 3.9, 1.2],\n       [6. , 2.7, 5.1, 1.6],\n       [5.4, 3. , 4.5, 1.5],\n       [6. , 3.4, 4.5, 1.6],\n       [6.7, 3.1, 4.7, 1.5],\n       [6.3, 2.3, 4.4, 1.3],\n       [5.6, 3. , 4.1, 1.3],\n       [5.5, 2.5, 4. , 1.3],\n       [5.5, 2.6, 4.4, 1.2],\n       [6.1, 3. , 4.6, 1.4],\n       [5.8, 2.6, 4. , 1.2],\n       [5. , 2.3, 3.3, 1. ],\n       [5.6, 2.7, 4.2, 1.3],\n       [5.7, 3. , 4.2, 1.2],\n       [5.7, 2.9, 4.2, 1.3],\n       [6.2, 2.9, 4.3, 1.3],\n       [5.1, 2.5, 3. , 1.1],\n       [5.7, 2.8, 4.1, 1.3],\n       [6.3, 3.3, 6. , 2.5],\n       [5.8, 2.7, 5.1, 1.9],\n       [7.1, 3. , 5.9, 2.1],\n       [6.3, 2.9, 5.6, 1.8],\n       [6.5, 3. , 5.8, 2.2],\n       [7.6, 3. , 6.6, 2.1],\n       [4.9, 2.5, 4.5, 1.7],\n       [7.3, 2.9, 6.3, 1.8],\n       [6.7, 2.5, 5.8, 1.8],\n       [7.2, 3.6, 6.1, 2.5],\n       [6.5, 3.2, 5.1, 2. ],\n       [6.4, 2.7, 5.3, 1.9],\n       [6.8, 3. , 5.5, 2.1],\n       [5.7, 2.5, 5. , 2. ],\n       [5.8, 2.8, 5.1, 2.4],\n       [6.4, 3.2, 5.3, 2.3],\n       [6.5, 3. , 5.5, 1.8],\n       [7.7, 3.8, 6.7, 2.2],\n       [7.7, 2.6, 6.9, 2.3],\n       [6. , 2.2, 5. , 1.5],\n       [6.9, 3.2, 5.7, 2.3],\n       [5.6, 2.8, 4.9, 2. ],\n       [7.7, 2.8, 6.7, 2. ],\n       [6.3, 2.7, 4.9, 1.8],\n       [6.7, 3.3, 5.7, 2.1],\n       [7.2, 3.2, 6. , 1.8],\n       [6.2, 2.8, 4.8, 1.8],\n       [6.1, 3. , 4.9, 1.8],\n       [6.4, 2.8, 5.6, 2.1],\n       [7.2, 3. , 5.8, 1.6],\n       [7.4, 2.8, 6.1, 1.9],\n       [7.9, 3.8, 6.4, 2. ],\n       [6.4, 2.8, 5.6, 2.2],\n       [6.3, 2.8, 5.1, 1.5],\n       [6.1, 2.6, 5.6, 1.4],\n       [7.7, 3. , 6.1, 2.3],\n       [6.3, 3.4, 5.6, 2.4],\n       [6.4, 3.1, 5.5, 1.8],\n       [6. , 3. , 4.8, 1.8],\n       [6.9, 3.1, 5.4, 2.1],\n       [6.7, 3.1, 5.6, 2.4],\n       [6.9, 3.1, 5.1, 2.3],\n       [5.8, 2.7, 5.1, 1.9],\n       [6.8, 3.2, 5.9, 2.3],\n       [6.7, 3.3, 5.7, 2.5],\n       [6.7, 3. , 5.2, 2.3],\n       [6.3, 2.5, 5. , 1.9],\n       [6.5, 3. , 5.2, 2. ],\n       [6.2, 3.4, 5.4, 2.3],\n       [5.9, 3. , 5.1, 1.8]]), 'target': array([0, 0, 0, 0, 0, 0, 0, 0, 0, 0, 0, 0, 0, 0, 0, 0, 0, 0, 0, 0, 0, 0,\n       0, 0, 0, 0, 0, 0, 0, 0, 0, 0, 0, 0, 0, 0, 0, 0, 0, 0, 0, 0, 0, 0,\n       0, 0, 0, 0, 0, 0, 1, 1, 1, 1, 1, 1, 1, 1, 1, 1, 1, 1, 1, 1, 1, 1,\n       1, 1, 1, 1, 1, 1, 1, 1, 1, 1, 1, 1, 1, 1, 1, 1, 1, 1, 1, 1, 1, 1,\n       1, 1, 1, 1, 1, 1, 1, 1, 1, 1, 1, 1, 2, 2, 2, 2, 2, 2, 2, 2, 2, 2,\n       2, 2, 2, 2, 2, 2, 2, 2, 2, 2, 2, 2, 2, 2, 2, 2, 2, 2, 2, 2, 2, 2,\n       2, 2, 2, 2, 2, 2, 2, 2, 2, 2, 2, 2, 2, 2, 2, 2, 2, 2]), 'target_names': array(['setosa', 'versicolor', 'virginica'], dtype='<U10'), 'DESCR': '.. _iris_dataset:\\n\\nIris plants dataset\\n--------------------\\n\\n**Data Set Characteristics:**\\n\\n    :Number of Instances: 150 (50 in each of three classes)\\n    :Number of Attributes: 4 numeric, predictive attributes and the class\\n    :Attribute Information:\\n        - sepal length in cm\\n        - sepal width in cm\\n        - petal length in cm\\n        - petal width in cm\\n        - class:\\n                - Iris-Setosa\\n                - Iris-Versicolour\\n                - Iris-Virginica\\n                \\n    :Summary Statistics:\\n\\n    ============== ==== ==== ======= ===== ====================\\n                    Min  Max   Mean    SD   Class Correlation\\n    ============== ==== ==== ======= ===== ====================\\n    sepal length:   4.3  7.9   5.84   0.83    0.7826\\n    sepal width:    2.0  4.4   3.05   0.43   -0.4194\\n    petal length:   1.0  6.9   3.76   1.76    0.9490  (high!)\\n    petal width:    0.1  2.5   1.20   0.76    0.9565  (high!)\\n    ============== ==== ==== ======= ===== ====================\\n\\n    :Missing Attribute Values: None\\n    :Class Distribution: 33.3% for each of 3 classes.\\n    :Creator: R.A. Fisher\\n    :Donor: Michael Marshall (MARSHALL%PLU@io.arc.nasa.gov)\\n    :Date: July, 1988\\n\\nThe famous Iris database, first used by Sir R.A. Fisher. The dataset is taken\\nfrom Fisher\\'s paper. Note that it\\'s the same as in R, but not as in the UCI\\nMachine Learning Repository, which has two wrong data points.\\n\\nThis is perhaps the best known database to be found in the\\npattern recognition literature.  Fisher\\'s paper is a classic in the field and\\nis referenced frequently to this day.  (See Duda & Hart, for example.)  The\\ndata set contains 3 classes of 50 instances each, where each class refers to a\\ntype of iris plant.  One class is linearly separable from the other 2; the\\nlatter are NOT linearly separable from each other.\\n\\n.. topic:: References\\n\\n   - Fisher, R.A. \"The use of multiple measurements in taxonomic problems\"\\n     Annual Eugenics, 7, Part II, 179-188 (1936); also in \"Contributions to\\n     Mathematical Statistics\" (John Wiley, NY, 1950).\\n   - Duda, R.O., & Hart, P.E. (1973) Pattern Classification and Scene Analysis.\\n     (Q327.D83) John Wiley & Sons.  ISBN 0-471-22361-1.  See page 218.\\n   - Dasarathy, B.V. (1980) \"Nosing Around the Neighborhood: A New System\\n     Structure and Classification Rule for Recognition in Partially Exposed\\n     Environments\".  IEEE Transactions on Pattern Analysis and Machine\\n     Intelligence, Vol. PAMI-2, No. 1, 67-71.\\n   - Gates, G.W. (1972) \"The Reduced Nearest Neighbor Rule\".  IEEE Transactions\\n     on Information Theory, May 1972, 431-433.\\n   - See also: 1988 MLC Proceedings, 54-64.  Cheeseman et al\"s AUTOCLASS II\\n     conceptual clustering system finds 3 classes in the data.\\n   - Many, many more ...', 'feature_names': ['sepal length (cm)', 'sepal width (cm)', 'petal length (cm)', 'petal width (cm)'], 'filename': '/home/nbuser/anaconda3_501/lib/python3.6/site-packages/sklearn/datasets/data/iris.csv'}\n",
          "name": "stdout"
        }
      ]
    },
    {
      "metadata": {
        "trusted": true
      },
      "cell_type": "code",
      "source": "attribs = iris['data']\nclasses = iris['target']\nnames = iris['target_names']\nfeature_names = iris['feature_names']\nprint(type(attribs), attribs)\nprint(type(classes), classes)\nprint(type(names), names)\nprint(type(feature_names), feature_names)",
      "execution_count": 8,
      "outputs": [
        {
          "output_type": "stream",
          "text": "<class 'numpy.ndarray'> [[5.1 3.5 1.4 0.2]\n [4.9 3.  1.4 0.2]\n [4.7 3.2 1.3 0.2]\n [4.6 3.1 1.5 0.2]\n [5.  3.6 1.4 0.2]\n [5.4 3.9 1.7 0.4]\n [4.6 3.4 1.4 0.3]\n [5.  3.4 1.5 0.2]\n [4.4 2.9 1.4 0.2]\n [4.9 3.1 1.5 0.1]\n [5.4 3.7 1.5 0.2]\n [4.8 3.4 1.6 0.2]\n [4.8 3.  1.4 0.1]\n [4.3 3.  1.1 0.1]\n [5.8 4.  1.2 0.2]\n [5.7 4.4 1.5 0.4]\n [5.4 3.9 1.3 0.4]\n [5.1 3.5 1.4 0.3]\n [5.7 3.8 1.7 0.3]\n [5.1 3.8 1.5 0.3]\n [5.4 3.4 1.7 0.2]\n [5.1 3.7 1.5 0.4]\n [4.6 3.6 1.  0.2]\n [5.1 3.3 1.7 0.5]\n [4.8 3.4 1.9 0.2]\n [5.  3.  1.6 0.2]\n [5.  3.4 1.6 0.4]\n [5.2 3.5 1.5 0.2]\n [5.2 3.4 1.4 0.2]\n [4.7 3.2 1.6 0.2]\n [4.8 3.1 1.6 0.2]\n [5.4 3.4 1.5 0.4]\n [5.2 4.1 1.5 0.1]\n [5.5 4.2 1.4 0.2]\n [4.9 3.1 1.5 0.2]\n [5.  3.2 1.2 0.2]\n [5.5 3.5 1.3 0.2]\n [4.9 3.6 1.4 0.1]\n [4.4 3.  1.3 0.2]\n [5.1 3.4 1.5 0.2]\n [5.  3.5 1.3 0.3]\n [4.5 2.3 1.3 0.3]\n [4.4 3.2 1.3 0.2]\n [5.  3.5 1.6 0.6]\n [5.1 3.8 1.9 0.4]\n [4.8 3.  1.4 0.3]\n [5.1 3.8 1.6 0.2]\n [4.6 3.2 1.4 0.2]\n [5.3 3.7 1.5 0.2]\n [5.  3.3 1.4 0.2]\n [7.  3.2 4.7 1.4]\n [6.4 3.2 4.5 1.5]\n [6.9 3.1 4.9 1.5]\n [5.5 2.3 4.  1.3]\n [6.5 2.8 4.6 1.5]\n [5.7 2.8 4.5 1.3]\n [6.3 3.3 4.7 1.6]\n [4.9 2.4 3.3 1. ]\n [6.6 2.9 4.6 1.3]\n [5.2 2.7 3.9 1.4]\n [5.  2.  3.5 1. ]\n [5.9 3.  4.2 1.5]\n [6.  2.2 4.  1. ]\n [6.1 2.9 4.7 1.4]\n [5.6 2.9 3.6 1.3]\n [6.7 3.1 4.4 1.4]\n [5.6 3.  4.5 1.5]\n [5.8 2.7 4.1 1. ]\n [6.2 2.2 4.5 1.5]\n [5.6 2.5 3.9 1.1]\n [5.9 3.2 4.8 1.8]\n [6.1 2.8 4.  1.3]\n [6.3 2.5 4.9 1.5]\n [6.1 2.8 4.7 1.2]\n [6.4 2.9 4.3 1.3]\n [6.6 3.  4.4 1.4]\n [6.8 2.8 4.8 1.4]\n [6.7 3.  5.  1.7]\n [6.  2.9 4.5 1.5]\n [5.7 2.6 3.5 1. ]\n [5.5 2.4 3.8 1.1]\n [5.5 2.4 3.7 1. ]\n [5.8 2.7 3.9 1.2]\n [6.  2.7 5.1 1.6]\n [5.4 3.  4.5 1.5]\n [6.  3.4 4.5 1.6]\n [6.7 3.1 4.7 1.5]\n [6.3 2.3 4.4 1.3]\n [5.6 3.  4.1 1.3]\n [5.5 2.5 4.  1.3]\n [5.5 2.6 4.4 1.2]\n [6.1 3.  4.6 1.4]\n [5.8 2.6 4.  1.2]\n [5.  2.3 3.3 1. ]\n [5.6 2.7 4.2 1.3]\n [5.7 3.  4.2 1.2]\n [5.7 2.9 4.2 1.3]\n [6.2 2.9 4.3 1.3]\n [5.1 2.5 3.  1.1]\n [5.7 2.8 4.1 1.3]\n [6.3 3.3 6.  2.5]\n [5.8 2.7 5.1 1.9]\n [7.1 3.  5.9 2.1]\n [6.3 2.9 5.6 1.8]\n [6.5 3.  5.8 2.2]\n [7.6 3.  6.6 2.1]\n [4.9 2.5 4.5 1.7]\n [7.3 2.9 6.3 1.8]\n [6.7 2.5 5.8 1.8]\n [7.2 3.6 6.1 2.5]\n [6.5 3.2 5.1 2. ]\n [6.4 2.7 5.3 1.9]\n [6.8 3.  5.5 2.1]\n [5.7 2.5 5.  2. ]\n [5.8 2.8 5.1 2.4]\n [6.4 3.2 5.3 2.3]\n [6.5 3.  5.5 1.8]\n [7.7 3.8 6.7 2.2]\n [7.7 2.6 6.9 2.3]\n [6.  2.2 5.  1.5]\n [6.9 3.2 5.7 2.3]\n [5.6 2.8 4.9 2. ]\n [7.7 2.8 6.7 2. ]\n [6.3 2.7 4.9 1.8]\n [6.7 3.3 5.7 2.1]\n [7.2 3.2 6.  1.8]\n [6.2 2.8 4.8 1.8]\n [6.1 3.  4.9 1.8]\n [6.4 2.8 5.6 2.1]\n [7.2 3.  5.8 1.6]\n [7.4 2.8 6.1 1.9]\n [7.9 3.8 6.4 2. ]\n [6.4 2.8 5.6 2.2]\n [6.3 2.8 5.1 1.5]\n [6.1 2.6 5.6 1.4]\n [7.7 3.  6.1 2.3]\n [6.3 3.4 5.6 2.4]\n [6.4 3.1 5.5 1.8]\n [6.  3.  4.8 1.8]\n [6.9 3.1 5.4 2.1]\n [6.7 3.1 5.6 2.4]\n [6.9 3.1 5.1 2.3]\n [5.8 2.7 5.1 1.9]\n [6.8 3.2 5.9 2.3]\n [6.7 3.3 5.7 2.5]\n [6.7 3.  5.2 2.3]\n [6.3 2.5 5.  1.9]\n [6.5 3.  5.2 2. ]\n [6.2 3.4 5.4 2.3]\n [5.9 3.  5.1 1.8]]\n<class 'numpy.ndarray'> [0 0 0 0 0 0 0 0 0 0 0 0 0 0 0 0 0 0 0 0 0 0 0 0 0 0 0 0 0 0 0 0 0 0 0 0 0\n 0 0 0 0 0 0 0 0 0 0 0 0 0 1 1 1 1 1 1 1 1 1 1 1 1 1 1 1 1 1 1 1 1 1 1 1 1\n 1 1 1 1 1 1 1 1 1 1 1 1 1 1 1 1 1 1 1 1 1 1 1 1 1 1 2 2 2 2 2 2 2 2 2 2 2\n 2 2 2 2 2 2 2 2 2 2 2 2 2 2 2 2 2 2 2 2 2 2 2 2 2 2 2 2 2 2 2 2 2 2 2 2 2\n 2 2]\n<class 'numpy.ndarray'> ['setosa' 'versicolor' 'virginica']\n<class 'list'> ['sepal length (cm)', 'sepal width (cm)', 'petal length (cm)', 'petal width (cm)']\n",
          "name": "stdout"
        }
      ]
    },
    {
      "metadata": {
        "trusted": true
      },
      "cell_type": "code",
      "source": "encoder = OneHotEncoder()\niris_encoded = encoder.fit_transform(classes[:, np.newaxis]).toarray()\n",
      "execution_count": 13,
      "outputs": [
        {
          "output_type": "stream",
          "text": "/home/nbuser/anaconda3_501/lib/python3.6/site-packages/sklearn/preprocessing/_encoders.py:371: FutureWarning: The handling of integer data will change in version 0.22. Currently, the categories are determined based on the range [0, max(values)], while in the future they will be determined based on the unique values.\nIf you want the future behaviour and silence this warning, you can specify \"categories='auto'\".\nIn case you used a LabelEncoder before this OneHotEncoder to convert the categories to integers, then you can now use the OneHotEncoder directly.\n  warnings.warn(msg, FutureWarning)\n",
          "name": "stderr"
        }
      ]
    },
    {
      "metadata": {
        "trusted": true
      },
      "cell_type": "code",
      "source": "print(iris_encoded)",
      "execution_count": 14,
      "outputs": [
        {
          "output_type": "stream",
          "text": "[[1. 0. 0.]\n [1. 0. 0.]\n [1. 0. 0.]\n [1. 0. 0.]\n [1. 0. 0.]\n [1. 0. 0.]\n [1. 0. 0.]\n [1. 0. 0.]\n [1. 0. 0.]\n [1. 0. 0.]\n [1. 0. 0.]\n [1. 0. 0.]\n [1. 0. 0.]\n [1. 0. 0.]\n [1. 0. 0.]\n [1. 0. 0.]\n [1. 0. 0.]\n [1. 0. 0.]\n [1. 0. 0.]\n [1. 0. 0.]\n [1. 0. 0.]\n [1. 0. 0.]\n [1. 0. 0.]\n [1. 0. 0.]\n [1. 0. 0.]\n [1. 0. 0.]\n [1. 0. 0.]\n [1. 0. 0.]\n [1. 0. 0.]\n [1. 0. 0.]\n [1. 0. 0.]\n [1. 0. 0.]\n [1. 0. 0.]\n [1. 0. 0.]\n [1. 0. 0.]\n [1. 0. 0.]\n [1. 0. 0.]\n [1. 0. 0.]\n [1. 0. 0.]\n [1. 0. 0.]\n [1. 0. 0.]\n [1. 0. 0.]\n [1. 0. 0.]\n [1. 0. 0.]\n [1. 0. 0.]\n [1. 0. 0.]\n [1. 0. 0.]\n [1. 0. 0.]\n [1. 0. 0.]\n [1. 0. 0.]\n [0. 1. 0.]\n [0. 1. 0.]\n [0. 1. 0.]\n [0. 1. 0.]\n [0. 1. 0.]\n [0. 1. 0.]\n [0. 1. 0.]\n [0. 1. 0.]\n [0. 1. 0.]\n [0. 1. 0.]\n [0. 1. 0.]\n [0. 1. 0.]\n [0. 1. 0.]\n [0. 1. 0.]\n [0. 1. 0.]\n [0. 1. 0.]\n [0. 1. 0.]\n [0. 1. 0.]\n [0. 1. 0.]\n [0. 1. 0.]\n [0. 1. 0.]\n [0. 1. 0.]\n [0. 1. 0.]\n [0. 1. 0.]\n [0. 1. 0.]\n [0. 1. 0.]\n [0. 1. 0.]\n [0. 1. 0.]\n [0. 1. 0.]\n [0. 1. 0.]\n [0. 1. 0.]\n [0. 1. 0.]\n [0. 1. 0.]\n [0. 1. 0.]\n [0. 1. 0.]\n [0. 1. 0.]\n [0. 1. 0.]\n [0. 1. 0.]\n [0. 1. 0.]\n [0. 1. 0.]\n [0. 1. 0.]\n [0. 1. 0.]\n [0. 1. 0.]\n [0. 1. 0.]\n [0. 1. 0.]\n [0. 1. 0.]\n [0. 1. 0.]\n [0. 1. 0.]\n [0. 1. 0.]\n [0. 1. 0.]\n [0. 0. 1.]\n [0. 0. 1.]\n [0. 0. 1.]\n [0. 0. 1.]\n [0. 0. 1.]\n [0. 0. 1.]\n [0. 0. 1.]\n [0. 0. 1.]\n [0. 0. 1.]\n [0. 0. 1.]\n [0. 0. 1.]\n [0. 0. 1.]\n [0. 0. 1.]\n [0. 0. 1.]\n [0. 0. 1.]\n [0. 0. 1.]\n [0. 0. 1.]\n [0. 0. 1.]\n [0. 0. 1.]\n [0. 0. 1.]\n [0. 0. 1.]\n [0. 0. 1.]\n [0. 0. 1.]\n [0. 0. 1.]\n [0. 0. 1.]\n [0. 0. 1.]\n [0. 0. 1.]\n [0. 0. 1.]\n [0. 0. 1.]\n [0. 0. 1.]\n [0. 0. 1.]\n [0. 0. 1.]\n [0. 0. 1.]\n [0. 0. 1.]\n [0. 0. 1.]\n [0. 0. 1.]\n [0. 0. 1.]\n [0. 0. 1.]\n [0. 0. 1.]\n [0. 0. 1.]\n [0. 0. 1.]\n [0. 0. 1.]\n [0. 0. 1.]\n [0. 0. 1.]\n [0. 0. 1.]\n [0. 0. 1.]\n [0. 0. 1.]\n [0. 0. 1.]\n [0. 0. 1.]\n [0. 0. 1.]]\n",
          "name": "stdout"
        }
      ]
    },
    {
      "metadata": {
        "trusted": true
      },
      "cell_type": "code",
      "source": "X_train, X_test, y_train, y_test = train_test_split(\n        attribs, iris_encoded, test_size=0.5, random_state=2)",
      "execution_count": 15,
      "outputs": []
    },
    {
      "metadata": {
        "trusted": true
      },
      "cell_type": "code",
      "source": "print(X_train[:10])",
      "execution_count": 16,
      "outputs": [
        {
          "output_type": "stream",
          "text": "[[5.9 3.  4.2 1.5]\n [6.7 3.1 4.7 1.5]\n [7.7 2.8 6.7 2. ]\n [4.9 3.  1.4 0.2]\n [6.3 3.3 4.7 1.6]\n [5.1 3.8 1.5 0.3]\n [5.8 2.7 3.9 1.2]\n [6.9 3.2 5.7 2.3]\n [4.9 3.1 1.5 0.1]\n [5.  2.  3.5 1. ]]\n",
          "name": "stdout"
        }
      ]
    },
    {
      "metadata": {
        "trusted": true
      },
      "cell_type": "code",
      "source": "print(y_train[:10])",
      "execution_count": 17,
      "outputs": [
        {
          "output_type": "stream",
          "text": "[[0. 1. 0.]\n [0. 1. 0.]\n [0. 0. 1.]\n [1. 0. 0.]\n [0. 1. 0.]\n [1. 0. 0.]\n [0. 1. 0.]\n [0. 0. 1.]\n [1. 0. 0.]\n [0. 1. 0.]]\n",
          "name": "stdout"
        }
      ]
    },
    {
      "metadata": {
        "trusted": true
      },
      "cell_type": "code",
      "source": "model = Sequential()\nmodel.add(Dense(8, input_dim=4, activation='relu'))\nmodel.add(Dense(3, activation='softmax'))\nmodel.compile(loss='categorical_crossentropy', optimizer='adam', metrics=['accuracy'])",
      "execution_count": 20,
      "outputs": []
    },
    {
      "metadata": {
        "trusted": true
      },
      "cell_type": "code",
      "source": "model.fit(X_train, y_train, epochs=150, batch_size=10)\nperda,acuracia = model.evaluate(X_test, y_test)\nprint('Acurácia: %.2f' % (acuracia*100))",
      "execution_count": 21,
      "outputs": [
        {
          "output_type": "stream",
          "text": "WARNING:tensorflow:From /home/nbuser/anaconda3_501/lib/python3.6/site-packages/tensorflow/python/ops/math_grad.py:1250: add_dispatch_support.<locals>.wrapper (from tensorflow.python.ops.array_ops) is deprecated and will be removed in a future version.\nInstructions for updating:\nUse tf.where in 2.0, which has the same broadcast rule as np.where\nTrain on 75 samples\nEpoch 1/150\n75/75 [==============================] - 3s 37ms/sample - loss: 1.3718 - accuracy: 0.6400\nEpoch 2/150\n75/75 [==============================] - 0s 765us/sample - loss: 1.2667 - accuracy: 0.6400\nEpoch 3/150\n75/75 [==============================] - 0s 705us/sample - loss: 1.1769 - accuracy: 0.6400\nEpoch 4/150\n75/75 [==============================] - 0s 729us/sample - loss: 1.1135 - accuracy: 0.6400\nEpoch 5/150\n75/75 [==============================] - 0s 1ms/sample - loss: 1.0492 - accuracy: 0.6400\nEpoch 6/150\n75/75 [==============================] - 0s 695us/sample - loss: 0.9940 - accuracy: 0.6400\nEpoch 7/150\n75/75 [==============================] - 0s 883us/sample - loss: 0.9471 - accuracy: 0.6400\nEpoch 8/150\n75/75 [==============================] - 0s 855us/sample - loss: 0.9080 - accuracy: 0.6400\nEpoch 9/150\n75/75 [==============================] - 0s 867us/sample - loss: 0.8679 - accuracy: 0.6400\nEpoch 10/150\n75/75 [==============================] - 0s 649us/sample - loss: 0.8369 - accuracy: 0.6400\nEpoch 11/150\n75/75 [==============================] - 0s 733us/sample - loss: 0.8099 - accuracy: 0.6400\nEpoch 12/150\n75/75 [==============================] - 0s 730us/sample - loss: 0.7811 - accuracy: 0.6400\nEpoch 13/150\n75/75 [==============================] - 0s 1ms/sample - loss: 0.7545 - accuracy: 0.6400\nEpoch 14/150\n75/75 [==============================] - 0s 1ms/sample - loss: 0.7328 - accuracy: 0.6400\nEpoch 15/150\n75/75 [==============================] - 0s 768us/sample - loss: 0.7184 - accuracy: 0.6400\nEpoch 16/150\n75/75 [==============================] - 0s 681us/sample - loss: 0.7076 - accuracy: 0.6533\nEpoch 17/150\n75/75 [==============================] - 0s 658us/sample - loss: 0.6980 - accuracy: 0.6533\nEpoch 18/150\n75/75 [==============================] - 0s 909us/sample - loss: 0.6887 - accuracy: 0.6533\nEpoch 19/150\n75/75 [==============================] - 0s 1ms/sample - loss: 0.6797 - accuracy: 0.6533\nEpoch 20/150\n75/75 [==============================] - 0s 860us/sample - loss: 0.6705 - accuracy: 0.6533\nEpoch 21/150\n75/75 [==============================] - 0s 583us/sample - loss: 0.6622 - accuracy: 0.6667\nEpoch 22/150\n75/75 [==============================] - 0s 792us/sample - loss: 0.6542 - accuracy: 0.6667\nEpoch 23/150\n75/75 [==============================] - 0s 592us/sample - loss: 0.6454 - accuracy: 0.6667\nEpoch 24/150\n75/75 [==============================] - 0s 1ms/sample - loss: 0.6371 - accuracy: 0.6667\nEpoch 25/150\n75/75 [==============================] - 0s 745us/sample - loss: 0.6294 - accuracy: 0.6800\nEpoch 26/150\n75/75 [==============================] - 0s 1ms/sample - loss: 0.6215 - accuracy: 0.6800\nEpoch 27/150\n75/75 [==============================] - 0s 1ms/sample - loss: 0.6139 - accuracy: 0.6800\nEpoch 28/150\n75/75 [==============================] - 0s 606us/sample - loss: 0.6069 - accuracy: 0.6800\nEpoch 29/150\n75/75 [==============================] - 0s 555us/sample - loss: 0.5990 - accuracy: 0.7333\nEpoch 30/150\n75/75 [==============================] - 0s 801us/sample - loss: 0.5924 - accuracy: 0.7600\nEpoch 31/150\n75/75 [==============================] - 0s 889us/sample - loss: 0.5855 - accuracy: 0.7867\nEpoch 32/150\n75/75 [==============================] - 0s 772us/sample - loss: 0.5787 - accuracy: 0.7867\nEpoch 33/150\n75/75 [==============================] - 0s 658us/sample - loss: 0.5729 - accuracy: 0.7867\nEpoch 34/150\n75/75 [==============================] - 0s 649us/sample - loss: 0.5657 - accuracy: 0.7867\nEpoch 35/150\n75/75 [==============================] - 0s 760us/sample - loss: 0.5596 - accuracy: 0.7867\nEpoch 36/150\n75/75 [==============================] - 0s 949us/sample - loss: 0.5537 - accuracy: 0.7867\nEpoch 37/150\n75/75 [==============================] - 0s 893us/sample - loss: 0.5492 - accuracy: 0.7867\nEpoch 38/150\n75/75 [==============================] - 0s 792us/sample - loss: 0.5425 - accuracy: 0.7867\nEpoch 39/150\n75/75 [==============================] - 0s 882us/sample - loss: 0.5364 - accuracy: 0.8000\nEpoch 40/150\n75/75 [==============================] - 0s 846us/sample - loss: 0.5321 - accuracy: 0.8267\nEpoch 41/150\n75/75 [==============================] - 0s 950us/sample - loss: 0.5257 - accuracy: 0.8267\nEpoch 42/150\n75/75 [==============================] - 0s 775us/sample - loss: 0.5211 - accuracy: 0.8267\nEpoch 43/150\n75/75 [==============================] - 0s 628us/sample - loss: 0.5159 - accuracy: 0.8267\nEpoch 44/150\n75/75 [==============================] - 0s 608us/sample - loss: 0.5110 - accuracy: 0.8267\nEpoch 45/150\n75/75 [==============================] - 0s 1ms/sample - loss: 0.5064 - accuracy: 0.8267\nEpoch 46/150\n75/75 [==============================] - ETA: 0s - loss: 0.5157 - accuracy: 0.90 - 0s 687us/sample - loss: 0.5016 - accuracy: 0.8533\nEpoch 47/150\n75/75 [==============================] - 0s 688us/sample - loss: 0.4970 - accuracy: 0.8667\nEpoch 48/150\n75/75 [==============================] - 0s 880us/sample - loss: 0.4929 - accuracy: 0.8667\nEpoch 49/150\n75/75 [==============================] - 0s 1ms/sample - loss: 0.4886 - accuracy: 0.8800\nEpoch 50/150\n75/75 [==============================] - 0s 819us/sample - loss: 0.4849 - accuracy: 0.8533\nEpoch 51/150\n75/75 [==============================] - 0s 785us/sample - loss: 0.4811 - accuracy: 0.8533\nEpoch 52/150\n75/75 [==============================] - 0s 1ms/sample - loss: 0.4770 - accuracy: 0.8533\nEpoch 53/150\n75/75 [==============================] - 0s 775us/sample - loss: 0.4733 - accuracy: 0.9067\nEpoch 54/150\n75/75 [==============================] - 0s 646us/sample - loss: 0.4693 - accuracy: 0.9067\nEpoch 55/150\n75/75 [==============================] - 0s 674us/sample - loss: 0.4660 - accuracy: 0.9333\nEpoch 56/150\n75/75 [==============================] - 0s 993us/sample - loss: 0.4626 - accuracy: 0.9333\nEpoch 57/150\n75/75 [==============================] - 0s 1ms/sample - loss: 0.4587 - accuracy: 0.9333\nEpoch 58/150\n75/75 [==============================] - 0s 754us/sample - loss: 0.4570 - accuracy: 0.9333\nEpoch 59/150\n75/75 [==============================] - 0s 725us/sample - loss: 0.4524 - accuracy: 0.9333\nEpoch 60/150\n75/75 [==============================] - 0s 1ms/sample - loss: 0.4492 - accuracy: 0.9467\nEpoch 61/150\n75/75 [==============================] - 0s 832us/sample - loss: 0.4459 - accuracy: 0.9333\nEpoch 62/150\n75/75 [==============================] - 0s 536us/sample - loss: 0.4429 - accuracy: 0.9333\nEpoch 63/150\n75/75 [==============================] - 0s 737us/sample - loss: 0.4405 - accuracy: 0.9200\nEpoch 64/150\n75/75 [==============================] - 0s 572us/sample - loss: 0.4370 - accuracy: 0.9200\nEpoch 65/150\n75/75 [==============================] - 0s 855us/sample - loss: 0.4347 - accuracy: 0.9067\nEpoch 66/150\n75/75 [==============================] - 0s 789us/sample - loss: 0.4323 - accuracy: 0.8933\nEpoch 67/150\n75/75 [==============================] - 0s 1ms/sample - loss: 0.4285 - accuracy: 0.9200\nEpoch 68/150\n75/75 [==============================] - 0s 711us/sample - loss: 0.4268 - accuracy: 0.9333\nEpoch 69/150\n75/75 [==============================] - 0s 760us/sample - loss: 0.4249 - accuracy: 0.9467\nEpoch 70/150\n75/75 [==============================] - 0s 833us/sample - loss: 0.4207 - accuracy: 0.9467\nEpoch 71/150\n75/75 [==============================] - 0s 509us/sample - loss: 0.4190 - accuracy: 0.9333\nEpoch 72/150\n75/75 [==============================] - 0s 529us/sample - loss: 0.4171 - accuracy: 0.9333\nEpoch 73/150\n75/75 [==============================] - 0s 778us/sample - loss: 0.4134 - accuracy: 0.9467\nEpoch 74/150\n75/75 [==============================] - 0s 1ms/sample - loss: 0.4109 - accuracy: 0.9467\nEpoch 75/150\n75/75 [==============================] - 0s 821us/sample - loss: 0.4090 - accuracy: 0.9467\nEpoch 76/150\n",
          "name": "stdout"
        },
        {
          "output_type": "stream",
          "text": "75/75 [==============================] - 0s 660us/sample - loss: 0.4065 - accuracy: 0.9467\nEpoch 77/150\n75/75 [==============================] - 0s 1ms/sample - loss: 0.4043 - accuracy: 0.9600\nEpoch 78/150\n75/75 [==============================] - 0s 979us/sample - loss: 0.4018 - accuracy: 0.9467\nEpoch 79/150\n75/75 [==============================] - 0s 752us/sample - loss: 0.3998 - accuracy: 0.9600\nEpoch 80/150\n75/75 [==============================] - 0s 1ms/sample - loss: 0.3972 - accuracy: 0.9467\nEpoch 81/150\n75/75 [==============================] - 0s 1ms/sample - loss: 0.3951 - accuracy: 0.9467\nEpoch 82/150\n75/75 [==============================] - 0s 1ms/sample - loss: 0.3931 - accuracy: 0.9467\nEpoch 83/150\n75/75 [==============================] - 0s 1ms/sample - loss: 0.3911 - accuracy: 0.9467\nEpoch 84/150\n75/75 [==============================] - 0s 954us/sample - loss: 0.3893 - accuracy: 0.9600\nEpoch 85/150\n75/75 [==============================] - 0s 823us/sample - loss: 0.3866 - accuracy: 0.9600\nEpoch 86/150\n75/75 [==============================] - 0s 1ms/sample - loss: 0.3849 - accuracy: 0.9600\nEpoch 87/150\n75/75 [==============================] - 0s 657us/sample - loss: 0.3821 - accuracy: 0.9600\nEpoch 88/150\n75/75 [==============================] - 0s 1ms/sample - loss: 0.3812 - accuracy: 0.9467\nEpoch 89/150\n75/75 [==============================] - 0s 1ms/sample - loss: 0.3799 - accuracy: 0.9333\nEpoch 90/150\n75/75 [==============================] - 0s 1ms/sample - loss: 0.3769 - accuracy: 0.9333\nEpoch 91/150\n75/75 [==============================] - 0s 655us/sample - loss: 0.3750 - accuracy: 0.9467\nEpoch 92/150\n75/75 [==============================] - 0s 834us/sample - loss: 0.3717 - accuracy: 0.9600\nEpoch 93/150\n75/75 [==============================] - 0s 980us/sample - loss: 0.3701 - accuracy: 0.9600\nEpoch 94/150\n75/75 [==============================] - 0s 999us/sample - loss: 0.3673 - accuracy: 0.9600\nEpoch 95/150\n75/75 [==============================] - 0s 1ms/sample - loss: 0.3672 - accuracy: 0.9600\nEpoch 96/150\n75/75 [==============================] - 0s 783us/sample - loss: 0.3640 - accuracy: 0.9600\nEpoch 97/150\n75/75 [==============================] - 0s 1ms/sample - loss: 0.3609 - accuracy: 0.9600\nEpoch 98/150\n75/75 [==============================] - 0s 1ms/sample - loss: 0.3594 - accuracy: 0.9600\nEpoch 99/150\n75/75 [==============================] - 0s 883us/sample - loss: 0.3571 - accuracy: 0.9467\nEpoch 100/150\n75/75 [==============================] - 0s 948us/sample - loss: 0.3546 - accuracy: 0.9600\nEpoch 101/150\n75/75 [==============================] - 0s 1ms/sample - loss: 0.3522 - accuracy: 0.9600\nEpoch 102/150\n75/75 [==============================] - 0s 1ms/sample - loss: 0.3504 - accuracy: 0.9600\nEpoch 103/150\n75/75 [==============================] - 0s 1ms/sample - loss: 0.3480 - accuracy: 0.9600\nEpoch 104/150\n75/75 [==============================] - 0s 1ms/sample - loss: 0.3461 - accuracy: 0.9600\nEpoch 105/150\n75/75 [==============================] - 0s 824us/sample - loss: 0.3433 - accuracy: 0.9600\nEpoch 106/150\n75/75 [==============================] - 0s 1ms/sample - loss: 0.3415 - accuracy: 0.9600\nEpoch 107/150\n75/75 [==============================] - 0s 1ms/sample - loss: 0.3389 - accuracy: 0.9600\nEpoch 108/150\n75/75 [==============================] - 0s 1ms/sample - loss: 0.3368 - accuracy: 0.9600\nEpoch 109/150\n75/75 [==============================] - 0s 971us/sample - loss: 0.3352 - accuracy: 0.9733\nEpoch 110/150\n75/75 [==============================] - ETA: 0s - loss: 0.3386 - accuracy: 0.95 - 0s 977us/sample - loss: 0.3327 - accuracy: 0.9600\nEpoch 111/150\n75/75 [==============================] - 0s 773us/sample - loss: 0.3305 - accuracy: 0.9467\nEpoch 112/150\n75/75 [==============================] - 0s 985us/sample - loss: 0.3292 - accuracy: 0.9600\nEpoch 113/150\n75/75 [==============================] - 0s 932us/sample - loss: 0.3260 - accuracy: 0.9600\nEpoch 114/150\n75/75 [==============================] - 0s 897us/sample - loss: 0.3235 - accuracy: 0.9733\nEpoch 115/150\n75/75 [==============================] - 0s 1ms/sample - loss: 0.3207 - accuracy: 0.9600\nEpoch 116/150\n75/75 [==============================] - 0s 1ms/sample - loss: 0.3196 - accuracy: 0.9600\nEpoch 117/150\n75/75 [==============================] - 0s 1ms/sample - loss: 0.3165 - accuracy: 0.9733\nEpoch 118/150\n75/75 [==============================] - 0s 829us/sample - loss: 0.3144 - accuracy: 0.9733\nEpoch 119/150\n75/75 [==============================] - 0s 1ms/sample - loss: 0.3120 - accuracy: 0.9733\nEpoch 120/150\n75/75 [==============================] - 0s 1ms/sample - loss: 0.3099 - accuracy: 0.9733\nEpoch 121/150\n75/75 [==============================] - 0s 687us/sample - loss: 0.3077 - accuracy: 0.9733\nEpoch 122/150\n75/75 [==============================] - 0s 730us/sample - loss: 0.3056 - accuracy: 0.9733\nEpoch 123/150\n75/75 [==============================] - 0s 1ms/sample - loss: 0.3035 - accuracy: 0.9733\nEpoch 124/150\n75/75 [==============================] - 0s 843us/sample - loss: 0.3014 - accuracy: 0.9733\nEpoch 125/150\n75/75 [==============================] - 0s 796us/sample - loss: 0.2991 - accuracy: 0.9733\nEpoch 126/150\n75/75 [==============================] - 0s 932us/sample - loss: 0.2980 - accuracy: 0.9600\nEpoch 127/150\n75/75 [==============================] - 0s 970us/sample - loss: 0.2944 - accuracy: 0.9600\nEpoch 128/150\n75/75 [==============================] - 0s 571us/sample - loss: 0.2930 - accuracy: 0.9733\nEpoch 129/150\n75/75 [==============================] - 0s 1ms/sample - loss: 0.2918 - accuracy: 0.9733\nEpoch 130/150\n75/75 [==============================] - 0s 677us/sample - loss: 0.2887 - accuracy: 0.9600\nEpoch 131/150\n75/75 [==============================] - 0s 679us/sample - loss: 0.2862 - accuracy: 0.9733\nEpoch 132/150\n75/75 [==============================] - 0s 1ms/sample - loss: 0.2847 - accuracy: 0.9733\nEpoch 133/150\n75/75 [==============================] - 0s 854us/sample - loss: 0.2825 - accuracy: 0.9600\nEpoch 134/150\n75/75 [==============================] - 0s 1ms/sample - loss: 0.2806 - accuracy: 0.9600\nEpoch 135/150\n75/75 [==============================] - 0s 843us/sample - loss: 0.2780 - accuracy: 0.9600\nEpoch 136/150\n75/75 [==============================] - 0s 702us/sample - loss: 0.2765 - accuracy: 0.9733\nEpoch 137/150\n75/75 [==============================] - 0s 1ms/sample - loss: 0.2745 - accuracy: 0.9733\nEpoch 138/150\n75/75 [==============================] - 0s 691us/sample - loss: 0.2728 - accuracy: 0.9733\nEpoch 139/150\n75/75 [==============================] - 0s 1ms/sample - loss: 0.2722 - accuracy: 0.9600\nEpoch 140/150\n75/75 [==============================] - 0s 866us/sample - loss: 0.2688 - accuracy: 0.9600\nEpoch 141/150\n75/75 [==============================] - 0s 899us/sample - loss: 0.2664 - accuracy: 0.9733\nEpoch 142/150\n75/75 [==============================] - 0s 1ms/sample - loss: 0.2672 - accuracy: 0.9600\nEpoch 143/150\n75/75 [==============================] - 0s 1ms/sample - loss: 0.2675 - accuracy: 0.9467\nEpoch 144/150\n75/75 [==============================] - 0s 784us/sample - loss: 0.2617 - accuracy: 0.9600\nEpoch 145/150\n75/75 [==============================] - 0s 789us/sample - loss: 0.2597 - accuracy: 0.9733\nEpoch 146/150\n75/75 [==============================] - 0s 1ms/sample - loss: 0.2579 - accuracy: 0.9600\nEpoch 147/150\n75/75 [==============================] - ETA: 0s - loss: 0.2455 - accuracy: 0.97 - 0s 1ms/sample - loss: 0.2568 - accuracy: 0.9600\nEpoch 148/150\n75/75 [==============================] - 0s 668us/sample - loss: 0.2537 - accuracy: 0.9600\nEpoch 149/150\n75/75 [==============================] - 0s 886us/sample - loss: 0.2527 - accuracy: 0.9600\nEpoch 150/150\n75/75 [==============================] - 0s 988us/sample - loss: 0.2504 - accuracy: 0.9600\n75/75 [==============================] - 0s 3ms/sample - loss: 0.2247 - accuracy: 1.0000\nAcurácia: 100.00\n",
          "name": "stdout"
        }
      ]
    },
    {
      "metadata": {
        "trusted": true
      },
      "cell_type": "code",
      "source": "model.save(\"./iris.h5\")",
      "execution_count": 22,
      "outputs": []
    },
    {
      "metadata": {
        "trusted": true
      },
      "cell_type": "code",
      "source": "# Setosa (1,0,0), Versicolor (0,1,0) e Virgínica (0,0,1)\nnew_iris_samples = np.array(\n    [[5.1, 3.3, 1.7, 0.5],\n     [5.9, 3.0, 4.2, 1.5],\n     [6.9, 3.1, 5.4, 2.1]], dtype=np.float32)\n",
      "execution_count": 24,
      "outputs": []
    },
    {
      "metadata": {
        "trusted": true
      },
      "cell_type": "code",
      "source": "predictions = model.predict(new_iris_samples)\nrounded = [[np.round(float(i), 0) for i in amostra] for amostra in predictions]\nprint(rounded)",
      "execution_count": 26,
      "outputs": [
        {
          "output_type": "stream",
          "text": "[[1.0, 0.0, 0.0], [0.0, 1.0, 0.0], [0.0, 0.0, 1.0]]\n",
          "name": "stdout"
        }
      ]
    },
    {
      "metadata": {
        "trusted": true
      },
      "cell_type": "code",
      "source": "",
      "execution_count": null,
      "outputs": []
    }
  ],
  "metadata": {
    "kernelspec": {
      "name": "python36",
      "display_name": "Python 3.6",
      "language": "python"
    },
    "language_info": {
      "mimetype": "text/x-python",
      "nbconvert_exporter": "python",
      "name": "python",
      "pygments_lexer": "ipython3",
      "version": "3.6.6",
      "file_extension": ".py",
      "codemirror_mode": {
        "version": 3,
        "name": "ipython"
      }
    }
  },
  "nbformat": 4,
  "nbformat_minor": 2
}